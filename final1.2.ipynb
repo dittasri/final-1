{
 "cells": [
  {
   "cell_type": "code",
   "execution_count": 1,
   "id": "8e7a7cc1",
   "metadata": {},
   "outputs": [
    {
     "name": "stdout",
     "output_type": "stream",
     "text": [
      "An error occurred: HTTP Error 404: Not Found\n"
     ]
    }
   ],
   "source": [
    "# Import necessary libraries\n",
    "import pandas as pd\n",
    "import seaborn as sns\n",
    "import matplotlib.pyplot as plt\n",
    "\n",
    "try:\n",
    "    # Load the dataset\n",
    "    url = \"https://raw.githubusercontent.com/dsrscientist/IBM_HR_Attrition_Rate_Analytics/master/WA_Fn-UseC_-HR-Employee-Attrition.csv\"\n",
    "    df = pd.read_csv(url)\n",
    "\n",
    "    # Display basic information about the dataset\n",
    "    print(\"\\nInformation about the dataset:\")\n",
    "    print(df.info())\n",
    "\n",
    "    # Display the first few rows of the dataset\n",
    "    print(\"\\nFirst few rows of the dataset:\")\n",
    "    print(df.head())\n",
    "\n",
    "    # Summary statistics\n",
    "    print(\"\\nSummary statistics:\")\n",
    "    print(df.describe())\n",
    "\n",
    "    # Check for missing values\n",
    "    print(\"\\nMissing values:\")\n",
    "    print(df.isnull().sum())\n",
    "\n",
    "    # Check for unique values in categorical columns\n",
    "    print(\"\\nUnique values in categorical columns:\")\n",
    "    for column in df.select_dtypes(include='object').columns:\n",
    "        unique_values = df[column].unique()\n",
    "        print(f\"{column}: {len(unique_values)} unique values\")\n",
    "        print(unique_values)\n",
    "\n",
    "    # Visualize the distribution of the target variable 'Attrition'\n",
    "    plt.figure(figsize=(8, 6))\n",
    "    sns.countplot(x='Attrition', data=df)\n",
    "    plt.title('Distribution of Attrition')\n",
    "    plt.show()\n",
    "\n",
    "    # Correlation matrix\n",
    "    plt.figure(figsize=(10, 8))\n",
    "    corr_matrix = df.corr()\n",
    "    sns.heatmap(corr_matrix, annot=True, cmap='coolwarm')\n",
    "    plt.title('Correlation Matrix')\n",
    "    plt.show()\n",
    "\n",
    "except Exception as e:\n",
    "    print(\"An error occurred:\", e)\n"
   ]
  },
  {
   "cell_type": "code",
   "execution_count": null,
   "id": "9a6a1131",
   "metadata": {},
   "outputs": [],
   "source": []
  }
 ],
 "metadata": {
  "kernelspec": {
   "display_name": "Python 3 (ipykernel)",
   "language": "python",
   "name": "python3"
  },
  "language_info": {
   "codemirror_mode": {
    "name": "ipython",
    "version": 3
   },
   "file_extension": ".py",
   "mimetype": "text/x-python",
   "name": "python",
   "nbconvert_exporter": "python",
   "pygments_lexer": "ipython3",
   "version": "3.10.9"
  }
 },
 "nbformat": 4,
 "nbformat_minor": 5
}
